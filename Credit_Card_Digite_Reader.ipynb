{
 "cells": [
  {
   "cell_type": "code",
   "execution_count": 107,
   "metadata": {},
   "outputs": [],
   "source": [
    "import cv2\n",
    "import os\n",
    "import numpy as np\n",
    "import random\n",
    "from scipy.ndimage import convolve\n",
    "import matplotlib.pyplot as plt\n",
    "% matplotlib inline"
   ]
  },
  {
   "cell_type": "code",
   "execution_count": 80,
   "metadata": {},
   "outputs": [],
   "source": [
    "from image_process import dataset\n",
    "from image_process import image_processs\n",
    "from image_process import prepare_dataset\n",
    "from image_process import crop"
   ]
  },
  {
   "cell_type": "markdown",
   "metadata": {},
   "source": [
    "### If want to change the folder name then also change some location variable in the class\n",
    "\n",
    "\"103 and 93 line\"  \n",
    "credit_data/ to you new folder name"
   ]
  },
  {
   "cell_type": "code",
   "execution_count": 81,
   "metadata": {},
   "outputs": [
    {
     "name": "stdout",
     "output_type": "stream",
     "text": [
      "credit_data/\n",
      "credit_data/train/0\n",
      "credit_data/train/1\n",
      "credit_data/train/2\n",
      "credit_data/train/3\n",
      "credit_data/train/4\n",
      "credit_data/train/5\n",
      "credit_data/train/6\n",
      "credit_data/train/7\n",
      "credit_data/train/8\n",
      "credit_data/train/9\n"
     ]
    }
   ],
   "source": [
    "train = dataset(\"credit_data/\")\n",
    "train.make_dir(\"train\")"
   ]
  },
  {
   "cell_type": "code",
   "execution_count": 82,
   "metadata": {},
   "outputs": [
    {
     "name": "stdout",
     "output_type": "stream",
     "text": [
      "credit_data/\n",
      "credit_data/test/0\n",
      "credit_data/test/1\n",
      "credit_data/test/2\n",
      "credit_data/test/3\n",
      "credit_data/test/4\n",
      "credit_data/test/5\n",
      "credit_data/test/6\n",
      "credit_data/test/7\n",
      "credit_data/test/8\n",
      "credit_data/test/9\n"
     ]
    }
   ],
   "source": [
    "test = dataset(\"credit_data/\")\n",
    "train.make_dir(\"test\")"
   ]
  },
  {
   "cell_type": "markdown",
   "metadata": {},
   "source": [
    "# Prepare Data set\n",
    "1. n_class : number of classes\n",
    "2. n_samples : number of smaples for each Class\n",
    "3. nseq : Seq code for the images\n",
    "4. image_path = \"path of image\"\n",
    "5. dimensioin : in form of tuple  [(top_x, top_y),(bottom_x, bottom_y)]\n",
    "6. shift : if have a like mine the shift is require (how much shift for second image to crop)\n",
    "7. Set inv according to your image (Goal is to achive the number font in white with black background)"
   ]
  },
  {
   "cell_type": "code",
   "execution_count": 84,
   "metadata": {},
   "outputs": [
    {
     "name": "stdout",
     "output_type": "stream",
     "text": [
      "Complete train class :0\n",
      "Complete train class :1\n",
      "Complete train class :2\n",
      "Complete train class :3\n",
      "Complete train class :4\n",
      "Complete train class :5\n",
      "Complete train class :6\n",
      "Complete train class :7\n",
      "Complete train class :8\n",
      "Complete train class :9\n"
     ]
    }
   ],
   "source": [
    "dataset = prepare_dataset(\"creditcard_digits2.jpg\",dimension=[(0, 0), (35, 48)], shift_dis=(35,35), inv=True)\n",
    "dataset.train(n_class=10, n_samples=2000, nseq=1)"
   ]
  },
  {
   "cell_type": "code",
   "execution_count": 94,
   "metadata": {},
   "outputs": [
    {
     "name": "stdout",
     "output_type": "stream",
     "text": [
      "Complete test class :0\n",
      "Complete test class :1\n",
      "Complete test class :2\n",
      "Complete test class :3\n",
      "Complete test class :4\n",
      "Complete test class :5\n",
      "Complete test class :6\n",
      "Complete test class :7\n",
      "Complete test class :8\n",
      "Complete test class :9\n"
     ]
    }
   ],
   "source": [
    "dataset_1 = prepare_dataset(\"creditcard_digits2.jpg\",[(0, 0), (35, 48)], (35,35), inv=True)\n",
    "dataset_1.test(10, 2000, 1)"
   ]
  },
  {
   "cell_type": "code",
   "execution_count": 95,
   "metadata": {},
   "outputs": [
    {
     "name": "stdout",
     "output_type": "stream",
     "text": [
      "Complete train class :0\n",
      "Complete train class :1\n",
      "Complete train class :2\n",
      "Complete train class :3\n",
      "Complete train class :4\n",
      "Complete train class :5\n",
      "Complete train class :6\n",
      "Complete train class :7\n",
      "Complete train class :8\n",
      "Complete train class :9\n"
     ]
    }
   ],
   "source": [
    "dataset = prepare_dataset(\"creditcard_digits1.jpg\",[(2, 19), (50, 72)], (59,59), inv=False)\n",
    "dataset.train(10,2000,2)"
   ]
  },
  {
   "cell_type": "code",
   "execution_count": 96,
   "metadata": {},
   "outputs": [
    {
     "name": "stdout",
     "output_type": "stream",
     "text": [
      "Complete test class :0\n",
      "Complete test class :1\n",
      "Complete test class :2\n",
      "Complete test class :3\n",
      "Complete test class :4\n",
      "Complete test class :5\n",
      "Complete test class :6\n",
      "Complete test class :7\n",
      "Complete test class :8\n",
      "Complete test class :9\n"
     ]
    }
   ],
   "source": [
    "dataset_1 = prepare_dataset(\"creditcard_digits1.jpg\",[(2, 19), (50, 72)], (59,59), inv=False)\n",
    "dataset_1.test(10,2000,2)"
   ]
  },
  {
   "cell_type": "markdown",
   "metadata": {},
   "source": [
    "# Testing\n",
    "image = cv2.imread(\"creditcard_digits2.jpg\",0)   \n",
    "_, thresh = cv2.threshold(image, 0, 255, cv2.THRESH_BINARY_INV +cv2.THRESH_OTSU)    \n",
    "#cv2.imshow(\"Image\", thresh)    \n",
    "#cv2.waitKey(0)     \n",
    "#cv2.destroyAllWindows()     \n",
    "pro = image_processs()     \n",
    "roi = [(0,0),(35, 48)]    \n",
    "top_x = roi[0][0]    \n",
    "top_y = roi[0][1]     \n",
    "bottom_x = roi[1][0]    \n",
    "bottom_y = roi[1][1]    \n",
    "for i in range(10):     \n",
    "    if i > 0:    \n",
    "        top_x = top_x + 35    \n",
    "        bottom_x = bottom_x + 35     \n",
    "    roi = image[top_y:bottom_y, top_x:bottom_x]      \n",
    "    print(\"{}\".format(i))     \n",
    "    for j in range(2000):     \n",
    "        roi2 = pro.DigitAugmentation(roi)     \n",
    "        roi_otsu = pro.processesing(roi2, inv = False)     \n",
    "        #cv2.imshow(\"otsu\", roi_otsu)      \n",
    "        cv2.imwrite(\"./credit_data/train/\"+str(i)+\"./_1_\"+str(j)+\".jpg\", roi_otsu)     \n",
    "        cv2.waitKey(0)    \n",
    "cv2.destroyAllWindows()     \n"
   ]
  },
  {
   "cell_type": "markdown",
   "metadata": {},
   "source": [
    "## Creating Model using Keras"
   ]
  },
  {
   "cell_type": "code",
   "execution_count": 99,
   "metadata": {},
   "outputs": [],
   "source": [
    "import keras\n",
    "from keras.models import Sequential\n",
    "from keras.layers import Conv2D, MaxPooling2D, Flatten, Dense, Activation, Dropout\n",
    "from keras.preprocessing.image import ImageDataGenerator\n",
    "from keras import optimizers\n",
    "\n",
    "\n",
    "train_data = 'credit_data/train'\n",
    "test_data = 'credit_data/test'"
   ]
  },
  {
   "cell_type": "code",
   "execution_count": 100,
   "metadata": {},
   "outputs": [
    {
     "name": "stdout",
     "output_type": "stream",
     "text": [
      "Found 40001 images belonging to 10 classes.\n",
      "Found 40000 images belonging to 10 classes.\n"
     ]
    }
   ],
   "source": [
    "train_datagen = ImageDataGenerator(rescale=1./255, shear_range=0.2, zoom_range=0.2, horizontal_flip=False, rotation_range=10)\n",
    "\n",
    "test_datagen = ImageDataGenerator(rescale=1./255)\n",
    "\n",
    "train_generator = train_datagen.flow_from_directory(\n",
    "        train_data,\n",
    "        target_size=(32, 32),\n",
    "        batch_size=32,\n",
    "        class_mode='categorical')\n",
    "\n",
    "validation_generator = test_datagen.flow_from_directory(\n",
    "        test_data,\n",
    "        target_size=(32, 32),\n",
    "        batch_size=32,\n",
    "        class_mode='categorical',\n",
    "        shuffle=False)"
   ]
  },
  {
   "cell_type": "code",
   "execution_count": 101,
   "metadata": {},
   "outputs": [],
   "source": [
    "# CNN is a Sequential model\n",
    "\n",
    "model = Sequential()\n",
    "\n",
    "model.add(Conv2D(30,(6, 6), padding=\"same\", input_shape=(32,32,3)))\n",
    "model.add(Activation(\"relu\"))\n",
    "model.add(MaxPooling2D(pool_size=(2,2)))\n",
    "\n",
    "model.add(Conv2D(30,(6, 6), padding=\"same\"))\n",
    "model.add(Activation(\"relu\"))\n",
    "model.add(MaxPooling2D(pool_size=(2,2)))\n",
    "\n",
    "model.add(Flatten())\n",
    "model.add(Dense(500))\n",
    "model.add(Activation(\"relu\"))\n",
    "\n",
    "# 10 is number of output neuron or classes\n",
    "model.add(Dense(10))\n",
    "model.add(Activation(\"softmax\"))"
   ]
  },
  {
   "cell_type": "code",
   "execution_count": 102,
   "metadata": {},
   "outputs": [],
   "source": [
    "model.compile(loss = 'categorical_crossentropy',optimizer = keras.optimizers.Adadelta(), metrics = ['accuracy'])"
   ]
  },
  {
   "cell_type": "code",
   "execution_count": 103,
   "metadata": {},
   "outputs": [
    {
     "name": "stdout",
     "output_type": "stream",
     "text": [
      "_________________________________________________________________\n",
      "Layer (type)                 Output Shape              Param #   \n",
      "=================================================================\n",
      "conv2d_1 (Conv2D)            (None, 32, 32, 30)        3270      \n",
      "_________________________________________________________________\n",
      "activation_1 (Activation)    (None, 32, 32, 30)        0         \n",
      "_________________________________________________________________\n",
      "max_pooling2d_1 (MaxPooling2 (None, 16, 16, 30)        0         \n",
      "_________________________________________________________________\n",
      "conv2d_2 (Conv2D)            (None, 16, 16, 30)        32430     \n",
      "_________________________________________________________________\n",
      "activation_2 (Activation)    (None, 16, 16, 30)        0         \n",
      "_________________________________________________________________\n",
      "max_pooling2d_2 (MaxPooling2 (None, 8, 8, 30)          0         \n",
      "_________________________________________________________________\n",
      "flatten_1 (Flatten)          (None, 1920)              0         \n",
      "_________________________________________________________________\n",
      "dense_1 (Dense)              (None, 500)               960500    \n",
      "_________________________________________________________________\n",
      "activation_3 (Activation)    (None, 500)               0         \n",
      "_________________________________________________________________\n",
      "dense_2 (Dense)              (None, 10)                5010      \n",
      "_________________________________________________________________\n",
      "activation_4 (Activation)    (None, 10)                0         \n",
      "=================================================================\n",
      "Total params: 1,001,210\n",
      "Trainable params: 1,001,210\n",
      "Non-trainable params: 0\n",
      "_________________________________________________________________\n",
      "None\n"
     ]
    }
   ],
   "source": [
    "print(model.summary())"
   ]
  },
  {
   "cell_type": "code",
   "execution_count": 104,
   "metadata": {},
   "outputs": [],
   "source": [
    "# Location to save the model after train\n",
    "loc = \"checkpoint/data.h5\""
   ]
  },
  {
   "cell_type": "code",
   "execution_count": 105,
   "metadata": {},
   "outputs": [
    {
     "name": "stdout",
     "output_type": "stream",
     "text": [
      "Epoch 1/10\n",
      "1200/1200 [==============================] - 33s 28ms/step - loss: 0.0218 - acc: 0.9939 - val_loss: 1.7153e-07 - val_acc: 1.0000\n",
      "Epoch 2/10\n",
      "1200/1200 [==============================] - 38s 32ms/step - loss: 4.8700e-06 - acc: 1.0000 - val_loss: 1.5203e-07 - val_acc: 1.0000\n",
      "Epoch 3/10\n",
      "1200/1200 [==============================] - 35s 30ms/step - loss: 1.6581e-06 - acc: 1.0000 - val_loss: 1.2647e-07 - val_acc: 1.0000\n",
      "Epoch 4/10\n",
      "1200/1200 [==============================] - 38s 32ms/step - loss: 7.9299e-07 - acc: 1.0000 - val_loss: 1.2066e-07 - val_acc: 1.0000\n",
      "Epoch 5/10\n",
      "1200/1200 [==============================] - 36s 30ms/step - loss: 7.7288e-07 - acc: 1.0000 - val_loss: 1.2158e-07 - val_acc: 1.0000\n",
      "Epoch 6/10\n",
      "1200/1200 [==============================] - 37s 31ms/step - loss: 1.1033e-06 - acc: 1.0000 - val_loss: 1.2074e-07 - val_acc: 1.0000\n",
      "Epoch 7/10\n",
      "1200/1200 [==============================] - 37s 31ms/step - loss: 0.0010 - acc: 0.9998 - val_loss: 1.5485e-07 - val_acc: 1.0000\n",
      "Epoch 8/10\n",
      "1200/1200 [==============================] - 36s 30ms/step - loss: 2.0329e-06 - acc: 1.0000 - val_loss: 1.3086e-07 - val_acc: 1.0000\n",
      "Epoch 9/10\n",
      "1200/1200 [==============================] - 39s 33ms/step - loss: 1.3044e-06 - acc: 1.0000 - val_loss: 1.2238e-07 - val_acc: 1.0000\n",
      "Epoch 10/10\n",
      "1200/1200 [==============================] - 35s 29ms/step - loss: 6.5370e-07 - acc: 1.0000 - val_loss: 1.2227e-07 - val_acc: 1.0000- loss\n"
     ]
    }
   ],
   "source": [
    "from keras.callbacks import ModelCheckpoint\n",
    "checkpoint = ModelCheckpoint(loc,\n",
    "                             monitor=\"val_loss\",\n",
    "                             mode=\"min\",\n",
    "                             save_best_only = True,\n",
    "                             verbose=1)\n",
    "model.fit_generator(train_generator, steps_per_epoch=1200, epochs=10, validation_data=validation_generator, validation_steps=800)\n",
    "model.save(loc)"
   ]
  },
  {
   "cell_type": "markdown",
   "metadata": {},
   "source": [
    "# Crop the Contour image\n",
    "\n",
    "\n",
    "\"\"or you can also use Software crop images that will also work\"\"  \n",
    "\"For more take a look inside the image_procces class\""
   ]
  },
  {
   "cell_type": "code",
   "execution_count": 111,
   "metadata": {},
   "outputs": [
    {
     "name": "stdout",
     "output_type": "stream",
     "text": [
      "(627, 968, 3)\n"
     ]
    },
    {
     "data": {
      "image/png": "[encoded data removed]",
      "text/plain": [
       "<Figure size 432x288 with 1 Axes>"
      ]
     },
     "metadata": {
      "needs_background": "light"
     },
     "output_type": "display_data"
    }
   ],
   "source": [
    "image = cv2.imread('monzo-card.png.jpg')\n",
    "image = cv2.cvtColor(image, cv2.COLOR_BGR2RGB)\n",
    "plt.imshow(image)\n",
    "print(image.shape)\n",
    "plt.show()\n",
    "\n",
    "#By hit and try crop the digite strip as i done\n",
    "#i founnd at ((55, 350), (950, 410)) for below photo"
   ]
  },
  {
   "cell_type": "code",
   "execution_count": 14,
   "metadata": {},
   "outputs": [],
   "source": [
    "crop_obj = crop()"
   ]
  },
  {
   "cell_type": "code",
   "execution_count": 122,
   "metadata": {},
   "outputs": [],
   "source": [
    "# To save the Extracted Digit\n",
    "\n",
    "image = cv2.imread('monzo-card.png.jpg')\n",
    "# if you have already trimed image the Comment out below line as i have already trimed card (no background stuff)\n",
    "#image = crop_obj.doc_Scan(image)\n",
    "region = [(55, 350), (950, 410)]\n",
    "top_left_y = region[0][1]\n",
    "bottom_right_y = region[1][1]\n",
    "top_left_x = region[0][0]\n",
    "bottom_right_x = region[1][0]\n",
    "roi = image[top_left_y:bottom_right_y, top_left_x:bottom_right_x]\n",
    "roi = cv2.cvtColor(roi, cv2.COLOR_BGR2GRAY)\n",
    "_, roi = cv2.threshold(roi, 0, 255, cv2.THRESH_BINARY_INV + cv2.THRESH_OTSU )\n",
    "\n",
    "# Cheack the crop Number Strip background is anythong but digite in the strip must black\n",
    "cv2.imshow(\"Region 1\", roi)\n",
    "cv2.imwrite(\"extracted_digits_1.jpg\", roi)\n",
    "cv2.waitKey(0)\n",
    "cv2.destroyAllWindows()"
   ]
  },
  {
   "cell_type": "code",
   "execution_count": 123,
   "metadata": {},
   "outputs": [],
   "source": [
    "from keras.models import load_model\n",
    "import keras\n",
    "classifier = load_model(loc)"
   ]
  },
  {
   "cell_type": "code",
   "execution_count": 124,
   "metadata": {},
   "outputs": [],
   "source": [
    "pro = image_processs()"
   ]
  },
  {
   "cell_type": "code",
   "execution_count": 127,
   "metadata": {},
   "outputs": [
    {
     "name": "stdout",
     "output_type": "stream",
     "text": [
      "5\n",
      "3\n",
      "5\n",
      "4\n",
      "2\n",
      "0\n",
      "0\n",
      "0\n",
      "0\n",
      "0\n",
      "0\n",
      "0\n",
      "0\n",
      "0\n",
      "0\n",
      "0\n"
     ]
    }
   ],
   "source": [
    "def x_cord_contour(contours):\n",
    "    if cv2.contourArea(contours) > 10:\n",
    "        M = cv2.moments(contours)\n",
    "        return (int(M['m10']/M['m00']))\n",
    "    else:\n",
    "        pass\n",
    "\n",
    "crop_digit = 'extracted_digits_1.jpg'\n",
    "orignal_full = 'monzo-card.png.jpg'\n",
    "    \n",
    "img = cv2.imread(crop_digit)\n",
    "orig_img = cv2.imread(orignal_full)\n",
    "gray = cv2.cvtColor(img,cv2.COLOR_BGR2GRAY)\n",
    "_, gray = cv2.threshold(gray, 200, 255, (cv2.THRESH_BINARY + cv2.THRESH_OTSU))\n",
    "cv2.imshow(\"image\", img)\n",
    "cv2.waitKey(0)\n",
    "cv2.destroyAllWindows()\n",
    "blurred = cv2.GaussianBlur(gray, (5, 5), 0)\n",
    "edged = cv2.Canny(blurred, 30, 150)\n",
    "contours, _ = cv2.findContours(edged.copy(), cv2.RETR_EXTERNAL, cv2.CHAIN_APPROX_SIMPLE)\n",
    "contours = sorted(contours, key=cv2.contourArea, reverse=True)[:16] #Change this to 16 to get all digits\n",
    "contours = sorted(contours, key = x_cord_contour, reverse = False)\n",
    "\n",
    "full_number = []\n",
    "for c in contours:\n",
    "    (x, y, w, h) = cv2.boundingRect(c)\n",
    "    if w >= 6 and h >= 20 and cv2.contourArea(c) < 1000:\n",
    "        roi = blurred[y:y + h, x:x + w]\n",
    "        cv2.imshow(\"roi\", roi)\n",
    "        cv2.waitKey(0)\n",
    "        cv2.destroyAllWindows()\n",
    "        roi_otsu = pro.processesing(roi, True)\n",
    "        roi_otsu = cv2.cvtColor(roi_otsu, cv2.COLOR_GRAY2RGB)\n",
    "        roi_otsu = keras.preprocessing.image.img_to_array(roi_otsu)\n",
    "        roi_otsu = roi_otsu * 1./255\n",
    "        roi_otsu = np.expand_dims(roi_otsu, axis=0)\n",
    "        image = np.vstack([roi_otsu])\n",
    "        label = str(classifier.predict_classes(image, batch_size = 10))[1]\n",
    "        print(label)\n",
    "        (x, y, w, h) = (x+region[0][0], y+region[0][1], w, h)\n",
    "        cv2.rectangle(orig_img, (x, y), (x + w, y + h), (0, 255, 0), 2)\n",
    "        cv2.putText(orig_img, label, (x , y + 90), cv2.FONT_HERSHEY_COMPLEX, 2, (255, 0, 0), 2)\n",
    "        cv2.imshow(\"image\", orig_img)\n",
    "        cv2.waitKey(0)\n",
    "cv2.destroyAllWindows()"
   ]
  },
  {
   "cell_type": "code",
   "execution_count": null,
   "metadata": {},
   "outputs": [],
   "source": []
  }
 ],
 "metadata": {
  "kernelspec": {
   "display_name": "Python 3",
   "language": "python",
   "name": "python3"
  },
  "language_info": {
   "codemirror_mode": {
    "name": "ipython",
    "version": 3
   },
   "file_extension": ".py",
   "mimetype": "text/x-python",
   "name": "python",
   "nbconvert_exporter": "python",
   "pygments_lexer": "ipython3",
   "version": "3.6.8"
  }
 },
 "nbformat": 4,
 "nbformat_minor": 4
}
